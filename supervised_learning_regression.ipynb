{
  "nbformat": 4,
  "nbformat_minor": 0,
  "metadata": {
    "colab": {
      "provenance": [],
      "authorship_tag": "ABX9TyMpREC12usa+Fw/Q9PCfXx8",
      "include_colab_link": true
    },
    "kernelspec": {
      "name": "python3",
      "display_name": "Python 3"
    },
    "language_info": {
      "name": "python"
    }
  },
  "cells": [
    {
      "cell_type": "markdown",
      "metadata": {
        "id": "view-in-github",
        "colab_type": "text"
      },
      "source": [
        "<a href=\"https://colab.research.google.com/github/agrim-sri/IITD-AIA_FSM/blob/main/supervised_learning_regression.ipynb\" target=\"_parent\"><img src=\"https://colab.research.google.com/assets/colab-badge.svg\" alt=\"Open In Colab\"/></a>"
      ]
    },
    {
      "cell_type": "markdown",
      "source": [
        "# Training Data"
      ],
      "metadata": {
        "id": "hifU6fTz6yit"
      }
    },
    {
      "cell_type": "code",
      "source": [
        "import numpy as np\n",
        "import pandas as pd\n",
        "import torch"
      ],
      "metadata": {
        "id": "Wkob5rn26-jC"
      },
      "execution_count": null,
      "outputs": []
    },
    {
      "cell_type": "code",
      "source": [
        "# Load the dataset\n",
        "df = pd.read_csv('Medical Price Dataset.csv')\n",
        "\n",
        "# Extract the features and target variable\n",
        "X = df[['age', 'bmi', 'children']].values\n",
        "y = df['charges'].values\n",
        "\n",
        "# Create inputs and targets arrays\n",
        "inputs = X\n",
        "targets = y.reshape(-1, 1)  # Reshape y to have one column\n",
        "\n",
        "# Verify the shapes\n",
        "print(\"Shape of inputs:\", inputs.shape)\n",
        "print(\"Shape of targets:\", targets.shape)"
      ],
      "metadata": {
        "colab": {
          "base_uri": "https://localhost:8080/"
        },
        "id": "XXkonJ2g7CAm",
        "outputId": "8679bc65-f3d4-4410-e9d4-9fcd143f3423"
      },
      "execution_count": 24,
      "outputs": [
        {
          "output_type": "stream",
          "name": "stdout",
          "text": [
            "Shape of inputs: (1338, 3)\n",
            "Shape of targets: (1338, 1)\n"
          ]
        }
      ]
    },
    {
      "cell_type": "code",
      "source": [
        "# Convert inputs and targets to tensors\n",
        "inputs = torch.from_numpy(inputs)\n",
        "targets = torch.from_numpy(targets)\n",
        "print(inputs)\n",
        "print(targets)"
      ],
      "metadata": {
        "colab": {
          "base_uri": "https://localhost:8080/"
        },
        "id": "I05sNRYr7S4e",
        "outputId": "642a0554-8fa7-41fd-867b-92b499fc2ee2"
      },
      "execution_count": 25,
      "outputs": [
        {
          "output_type": "stream",
          "name": "stdout",
          "text": [
            "tensor([[19.0000, 27.9000,  0.0000],\n",
            "        [18.0000, 33.7700,  1.0000],\n",
            "        [28.0000, 33.0000,  3.0000],\n",
            "        ...,\n",
            "        [18.0000, 36.8500,  0.0000],\n",
            "        [21.0000, 25.8000,  0.0000],\n",
            "        [61.0000, 29.0700,  0.0000]], dtype=torch.float64)\n",
            "tensor([[16884.9240],\n",
            "        [ 1725.5523],\n",
            "        [ 4449.4620],\n",
            "        ...,\n",
            "        [ 1629.8335],\n",
            "        [ 2007.9450],\n",
            "        [29141.3603]], dtype=torch.float64)\n"
          ]
        }
      ]
    },
    {
      "cell_type": "markdown",
      "source": [
        "# Linear regression model from scratch"
      ],
      "metadata": {
        "id": "U5ZytDKL7Ykj"
      }
    },
    {
      "cell_type": "code",
      "source": [
        "# Weights and biases\n",
        "w = torch.randn(2, 3, requires_grad=True, dtype=torch.double)\n",
        "b = torch.randn(2, requires_grad=True, dtype=torch.double)\n",
        "print(w)\n",
        "print(b)"
      ],
      "metadata": {
        "colab": {
          "base_uri": "https://localhost:8080/"
        },
        "id": "cIe5J-d37a0R",
        "outputId": "e7afbc97-ccf1-4d64-d880-086c15d3ed43"
      },
      "execution_count": 27,
      "outputs": [
        {
          "output_type": "stream",
          "name": "stdout",
          "text": [
            "tensor([[ 0.0844,  0.3787,  1.7217],\n",
            "        [-0.8812,  1.6366, -0.6432]], dtype=torch.float64, requires_grad=True)\n",
            "tensor([ 0.5831, -0.2462], dtype=torch.float64, requires_grad=True)\n"
          ]
        }
      ]
    },
    {
      "cell_type": "code",
      "source": [
        "predic = inputs @ w.t() + b\n",
        "print(predic)"
      ],
      "metadata": {
        "colab": {
          "base_uri": "https://localhost:8080/"
        },
        "id": "8gl7nMXG76n6",
        "outputId": "f70a0486-558f-4c45-8a8b-bb3a548048cd"
      },
      "execution_count": 28,
      "outputs": [
        {
          "output_type": "stream",
          "name": "stdout",
          "text": [
            "tensor([[12.7515, 28.6702],\n",
            "        [16.6118, 38.5149],\n",
            "        [20.6073, 27.1560],\n",
            "        ...,\n",
            "        [16.0564, 44.1987],\n",
            "        [12.1250, 23.4709],\n",
            "        [16.7379, -6.4273]], dtype=torch.float64, grad_fn=<AddBackward0>)\n"
          ]
        }
      ]
    },
    {
      "cell_type": "code",
      "source": [
        "def model(x):\n",
        "    return x @ w.t() + b"
      ],
      "metadata": {
        "id": "YH5rABA5Axmm"
      },
      "execution_count": 29,
      "outputs": []
    },
    {
      "cell_type": "code",
      "source": [
        "# Generate predictions\n",
        "preds = model(inputs)\n",
        "print(preds)"
      ],
      "metadata": {
        "colab": {
          "base_uri": "https://localhost:8080/"
        },
        "id": "L7AA2gdxA0vq",
        "outputId": "86d49ac1-6d4c-4f54-b1df-e8e7f77fc779"
      },
      "execution_count": 30,
      "outputs": [
        {
          "output_type": "stream",
          "name": "stdout",
          "text": [
            "tensor([[12.7515, 28.6702],\n",
            "        [16.6118, 38.5149],\n",
            "        [20.6073, 27.1560],\n",
            "        ...,\n",
            "        [16.0564, 44.1987],\n",
            "        [12.1250, 23.4709],\n",
            "        [16.7379, -6.4273]], dtype=torch.float64, grad_fn=<AddBackward0>)\n"
          ]
        }
      ]
    },
    {
      "cell_type": "code",
      "source": [
        "# Compare with targets\n",
        "print(targets)"
      ],
      "metadata": {
        "colab": {
          "base_uri": "https://localhost:8080/"
        },
        "id": "i_ASWDvmA3jN",
        "outputId": "2f06f335-86a7-4158-e15b-767418e231d4"
      },
      "execution_count": 31,
      "outputs": [
        {
          "output_type": "stream",
          "name": "stdout",
          "text": [
            "tensor([[16884.9240],\n",
            "        [ 1725.5523],\n",
            "        [ 4449.4620],\n",
            "        ...,\n",
            "        [ 1629.8335],\n",
            "        [ 2007.9450],\n",
            "        [29141.3603]], dtype=torch.float64)\n"
          ]
        }
      ]
    },
    {
      "cell_type": "markdown",
      "source": [
        "# Loss Function"
      ],
      "metadata": {
        "id": "tUkBFDxNA8uZ"
      }
    },
    {
      "cell_type": "code",
      "source": [
        "# MSE loss\n",
        "def mse(t1, t2):\n",
        "    diff = t1 - t2\n",
        "    return torch.sum(diff * diff) / diff.numel()"
      ],
      "metadata": {
        "id": "geyQSBR0A_ry"
      },
      "execution_count": 32,
      "outputs": []
    },
    {
      "cell_type": "code",
      "source": [
        "# Compute loss\n",
        "loss = mse(preds, targets)\n",
        "print(loss)"
      ],
      "metadata": {
        "colab": {
          "base_uri": "https://localhost:8080/"
        },
        "id": "T7xVHjR1BCa0",
        "outputId": "9cdec866-3835-4a3e-cdc8-97c399cdd43c"
      },
      "execution_count": 33,
      "outputs": [
        {
          "output_type": "stream",
          "name": "stdout",
          "text": [
            "tensor(3.2223e+08, dtype=torch.float64, grad_fn=<DivBackward0>)\n"
          ]
        }
      ]
    },
    {
      "cell_type": "markdown",
      "source": [
        "# Compute gradients"
      ],
      "metadata": {
        "id": "W7_36_rQBFaO"
      }
    },
    {
      "cell_type": "code",
      "source": [
        "# Compute gradients\n",
        "loss.backward()"
      ],
      "metadata": {
        "id": "EZMiauV7BDcF"
      },
      "execution_count": 34,
      "outputs": []
    },
    {
      "cell_type": "code",
      "source": [
        "# Gradients for weights\n",
        "print(w)\n",
        "print(w.grad)"
      ],
      "metadata": {
        "colab": {
          "base_uri": "https://localhost:8080/"
        },
        "id": "iMBEbjJ2BJnH",
        "outputId": "b8a17e9b-33a4-44a5-fdec-b85f6617c90d"
      },
      "execution_count": 35,
      "outputs": [
        {
          "output_type": "stream",
          "name": "stdout",
          "text": [
            "tensor([[ 0.0844,  0.3787,  1.7217],\n",
            "        [-0.8812,  1.6366, -0.6432]], dtype=torch.float64, requires_grad=True)\n",
            "tensor([[-570427.4134, -421004.3871,  -15500.3191],\n",
            "        [-570713.9396, -421049.8982,  -15507.2930]], dtype=torch.float64)\n"
          ]
        }
      ]
    },
    {
      "cell_type": "markdown",
      "source": [
        "# Adjust weights and biases to reduce the loss"
      ],
      "metadata": {
        "id": "vrlj96rTBOqU"
      }
    },
    {
      "cell_type": "code",
      "source": [
        "w\n",
        "w.grad"
      ],
      "metadata": {
        "colab": {
          "base_uri": "https://localhost:8080/"
        },
        "id": "Kd-dksEfBL-a",
        "outputId": "1f408f7b-00e3-4b16-be03-069850e8fe00"
      },
      "execution_count": 36,
      "outputs": [
        {
          "output_type": "execute_result",
          "data": {
            "text/plain": [
              "tensor([[-570427.4134, -421004.3871,  -15500.3191],\n",
              "        [-570713.9396, -421049.8982,  -15507.2930]], dtype=torch.float64)"
            ]
          },
          "metadata": {},
          "execution_count": 36
        }
      ]
    },
    {
      "cell_type": "code",
      "source": [
        "with torch.no_grad():\n",
        "    w -= w.grad * 1e-5\n",
        "    b -= b.grad * 1e-5"
      ],
      "metadata": {
        "id": "0tzEX1nGBVEI"
      },
      "execution_count": 37,
      "outputs": []
    },
    {
      "cell_type": "code",
      "source": [
        "print(w)\n",
        "print(b)"
      ],
      "metadata": {
        "colab": {
          "base_uri": "https://localhost:8080/"
        },
        "id": "ODCorDSnBXXQ",
        "outputId": "957b69f3-f642-44fb-a776-b811484e7a63"
      },
      "execution_count": 38,
      "outputs": [
        {
          "output_type": "stream",
          "name": "stdout",
          "text": [
            "tensor([[ 5.7886,  4.5887,  1.8767],\n",
            "        [ 4.8259,  5.8471, -0.4881]], dtype=torch.float64, requires_grad=True)\n",
            "tensor([ 0.7156, -0.1137], dtype=torch.float64, requires_grad=True)\n"
          ]
        }
      ]
    },
    {
      "cell_type": "code",
      "source": [
        "# verifying that the loss is actually lower\n",
        "loss = mse(preds, targets)\n",
        "print(loss)"
      ],
      "metadata": {
        "colab": {
          "base_uri": "https://localhost:8080/"
        },
        "id": "ud3Z8b69BaWJ",
        "outputId": "60f8eade-b5d8-401c-f749-c9ee198003b8"
      },
      "execution_count": 39,
      "outputs": [
        {
          "output_type": "stream",
          "name": "stdout",
          "text": [
            "tensor(3.2223e+08, dtype=torch.float64, grad_fn=<DivBackward0>)\n"
          ]
        }
      ]
    },
    {
      "cell_type": "code",
      "source": [
        "w.grad.zero_()\n",
        "b.grad.zero_()\n",
        "print(w.grad)\n",
        "print(b.grad)"
      ],
      "metadata": {
        "colab": {
          "base_uri": "https://localhost:8080/"
        },
        "id": "jc-bPwtCBexD",
        "outputId": "cd85244f-3e42-4c67-f2fb-a98844794cea"
      },
      "execution_count": 40,
      "outputs": [
        {
          "output_type": "stream",
          "name": "stdout",
          "text": [
            "tensor([[0., 0., 0.],\n",
            "        [0., 0., 0.]], dtype=torch.float64)\n",
            "tensor([0., 0.], dtype=torch.float64)\n"
          ]
        }
      ]
    },
    {
      "cell_type": "markdown",
      "source": [
        "# Train the model using gradient descent"
      ],
      "metadata": {
        "id": "D1M5OSL0BhdS"
      }
    },
    {
      "cell_type": "code",
      "source": [
        "# Generate predictions\n",
        "preds = model(inputs)\n",
        "print(preds)"
      ],
      "metadata": {
        "colab": {
          "base_uri": "https://localhost:8080/"
        },
        "id": "nNIzgK5hBjGb",
        "outputId": "b8358d79-fd0b-465b-f7e5-5d9f8664aaf7"
      },
      "execution_count": 41,
      "outputs": [
        {
          "output_type": "stream",
          "name": "stdout",
          "text": [
            "tensor([[238.7255, 254.7113],\n",
            "        [261.7495, 283.7196],\n",
            "        [319.8560, 326.5002],\n",
            "        ...,\n",
            "        [274.0060, 302.2166],\n",
            "        [240.6664, 252.0843],\n",
            "        [487.2171, 464.2399]], dtype=torch.float64, grad_fn=<AddBackward0>)\n"
          ]
        }
      ]
    },
    {
      "cell_type": "code",
      "source": [
        "# Calculate the loss\n",
        "loss = mse(preds, targets)\n",
        "print(loss)"
      ],
      "metadata": {
        "colab": {
          "base_uri": "https://localhost:8080/"
        },
        "id": "DmyzZwMNBlpJ",
        "outputId": "a326678f-a71b-4b8d-ca05-a9281b25a0e0"
      },
      "execution_count": 42,
      "outputs": [
        {
          "output_type": "stream",
          "name": "stdout",
          "text": [
            "tensor(3.1230e+08, dtype=torch.float64, grad_fn=<DivBackward0>)\n"
          ]
        }
      ]
    },
    {
      "cell_type": "code",
      "source": [
        "# Compute gradients\n",
        "loss.backward()\n",
        "print(w.grad)\n",
        "print(b.grad)"
      ],
      "metadata": {
        "colab": {
          "base_uri": "https://localhost:8080/"
        },
        "id": "XQrxPPK-BnuJ",
        "outputId": "020a686d-e9ec-4e0a-bf53-bc85462efb82"
      },
      "execution_count": 43,
      "outputs": [
        {
          "output_type": "stream",
          "name": "stdout",
          "text": [
            "tensor([[-555420.9161, -409969.0298,  -15109.0451],\n",
            "        [-555701.9171, -410010.6214,  -15115.8784]], dtype=torch.float64)\n",
            "tensor([-12899.9903, -12902.5706], dtype=torch.float64)\n"
          ]
        }
      ]
    },
    {
      "cell_type": "code",
      "source": [
        "# Adjust weights & reset gradients\n",
        "with torch.no_grad():\n",
        "    w -= w.grad * 1e-5\n",
        "    b -= b.grad * 1e-5\n",
        "    w.grad.zero_()\n",
        "    b.grad.zero_()"
      ],
      "metadata": {
        "id": "V5pffKv_Bp3s"
      },
      "execution_count": 44,
      "outputs": []
    },
    {
      "cell_type": "code",
      "source": [
        "print(w)\n",
        "print(b)"
      ],
      "metadata": {
        "colab": {
          "base_uri": "https://localhost:8080/"
        },
        "id": "SWKwAUu_Bsh9",
        "outputId": "798e187e-1514-4d2c-edc5-f8531ff176fc"
      },
      "execution_count": 45,
      "outputs": [
        {
          "output_type": "stream",
          "name": "stdout",
          "text": [
            "tensor([[11.3428,  8.6884,  2.0278],\n",
            "        [10.3829,  9.9472, -0.3369]], dtype=torch.float64, requires_grad=True)\n",
            "tensor([0.8446, 0.0153], dtype=torch.float64, requires_grad=True)\n"
          ]
        }
      ]
    },
    {
      "cell_type": "code",
      "source": [
        "# Calculate loss\n",
        "preds = model(inputs)\n",
        "loss = mse(preds, targets)\n",
        "print(loss)"
      ],
      "metadata": {
        "colab": {
          "base_uri": "https://localhost:8080/"
        },
        "id": "jH_I-6jnBudk",
        "outputId": "e5aa43f3-d1c5-46ec-8f81-ef1a92f1b237"
      },
      "execution_count": 46,
      "outputs": [
        {
          "output_type": "stream",
          "name": "stdout",
          "text": [
            "tensor(3.0288e+08, dtype=torch.float64, grad_fn=<DivBackward0>)\n"
          ]
        }
      ]
    },
    {
      "cell_type": "code",
      "source": [
        "# Train for 100 epochs\n",
        "for i in range(100):\n",
        "    preds = model(inputs)\n",
        "    loss = mse(preds, targets)\n",
        "    loss.backward()\n",
        "    with torch.no_grad():\n",
        "        w -= w.grad * 1e-5\n",
        "        b -= b.grad * 1e-5\n",
        "        w.grad.zero_()\n",
        "        b.grad.zero_()"
      ],
      "metadata": {
        "id": "XHCeYI_ABwbX"
      },
      "execution_count": 47,
      "outputs": []
    },
    {
      "cell_type": "code",
      "source": [
        "preds = model(inputs)\n",
        "loss = mse(preds, targets)\n",
        "print(loss)"
      ],
      "metadata": {
        "colab": {
          "base_uri": "https://localhost:8080/"
        },
        "id": "9-CYr-b2ByVT",
        "outputId": "c8a70460-e878-46c7-b0ac-41e9324e54a1"
      },
      "execution_count": 48,
      "outputs": [
        {
          "output_type": "stream",
          "name": "stdout",
          "text": [
            "tensor(1.3153e+08, dtype=torch.float64, grad_fn=<DivBackward0>)\n"
          ]
        }
      ]
    },
    {
      "cell_type": "code",
      "source": [
        "# Predictions\n",
        "preds"
      ],
      "metadata": {
        "colab": {
          "base_uri": "https://localhost:8080/"
        },
        "id": "4faqwl85B24G",
        "outputId": "289ed61d-cc4d-46cf-9fa3-b1ab37ba90d8"
      },
      "execution_count": 49,
      "outputs": [
        {
          "output_type": "execute_result",
          "data": {
            "text/plain": [
              "tensor([[ 8053.1301,  8070.5071],\n",
              "        [ 8742.7227,  8765.6409],\n",
              "        [10665.5791, 10674.6970],\n",
              "        ...,\n",
              "        [ 9199.0910,  9228.0894],\n",
              "        [ 8141.4822,  8154.6940],\n",
              "        [16728.4614, 16713.0295]], dtype=torch.float64, grad_fn=<AddBackward0>)"
            ]
          },
          "metadata": {},
          "execution_count": 49
        }
      ]
    },
    {
      "cell_type": "code",
      "source": [
        "# Targets\n",
        "targets"
      ],
      "metadata": {
        "colab": {
          "base_uri": "https://localhost:8080/"
        },
        "id": "Vb3etfJWB5Df",
        "outputId": "50c17946-17b0-4b71-ed74-6d8d1846b25f"
      },
      "execution_count": 50,
      "outputs": [
        {
          "output_type": "execute_result",
          "data": {
            "text/plain": [
              "tensor([[16884.9240],\n",
              "        [ 1725.5523],\n",
              "        [ 4449.4620],\n",
              "        ...,\n",
              "        [ 1629.8335],\n",
              "        [ 2007.9450],\n",
              "        [29141.3603]], dtype=torch.float64)"
            ]
          },
          "metadata": {},
          "execution_count": 50
        }
      ]
    },
    {
      "cell_type": "markdown",
      "source": [
        "# M2"
      ],
      "metadata": {
        "id": "3P3USjgCDVLI"
      }
    },
    {
      "cell_type": "code",
      "execution_count": null,
      "metadata": {
        "id": "oGRekrQjGVEb"
      },
      "outputs": [],
      "source": [
        "import numpy as np\n",
        "import pandas as pd\n",
        "import matplotlib.pyplot as plt"
      ]
    },
    {
      "cell_type": "code",
      "source": [
        "def linear_regression(x_train, y_train, learning_rate=0.01, num_iterations=1000):\n",
        "    ones = np.ones((x_train.shape[0], 1))\n",
        "    x_train = np.concatenate((ones, x_train), axis=1)\n",
        "\n",
        "    num_features = x_train.shape[1]\n",
        "    theta = np.zeros(num_features)\n",
        "\n",
        "    # gradient descent\n",
        "    for _ in range(num_iterations):\n",
        "        predictions = np.dot(x_train, theta)\n",
        "        errors = predictions - y_train\n",
        "        gradient = np.dot(x_train.T, errors) / len(y_train)\n",
        "        theta -= learning_rate * gradient\n",
        "\n",
        "    return theta"
      ],
      "metadata": {
        "id": "qRubQ3zaSDB0"
      },
      "execution_count": 51,
      "outputs": []
    },
    {
      "cell_type": "code",
      "source": [
        "def plot_regression_line(x, y, theta):\n",
        "    # training data\n",
        "    plt.scatter(x, y, color='blue', label='Training Data')\n",
        "\n",
        "    # Predict y\n",
        "    y_pred = theta[0] + theta[1] * x\n",
        "\n",
        "    # regression line\n",
        "    plt.plot(x, y_pred, color='red', label='Regression Line')\n",
        "\n",
        "    plt.xlabel('X')\n",
        "    plt.ylabel('Y')\n",
        "    plt.title('Linear Regression')\n",
        "    plt.legend()\n",
        "\n",
        "    plt.show()"
      ],
      "metadata": {
        "id": "U7cPGS5jSGa1"
      },
      "execution_count": 52,
      "outputs": []
    },
    {
      "cell_type": "markdown",
      "source": [
        "# Load the dataset\n",
        "\n",
        "Extract the features and Target variable"
      ],
      "metadata": {
        "id": "DI0NSs3aThIo"
      }
    },
    {
      "cell_type": "code",
      "source": [
        "x_train = df[['age', 'bmi', 'children']].values\n",
        "y_train = df['charges'].values"
      ],
      "metadata": {
        "id": "hCa_47ZKSVcV"
      },
      "execution_count": 53,
      "outputs": []
    },
    {
      "cell_type": "code",
      "source": [
        "df = pd.read_csv('Medical Price Dataset.csv')"
      ],
      "metadata": {
        "id": "V_3C1Z9USPL_"
      },
      "execution_count": 54,
      "outputs": []
    },
    {
      "cell_type": "markdown",
      "source": [
        "# linear regression"
      ],
      "metadata": {
        "id": "AgMZbwBGT02K"
      }
    },
    {
      "cell_type": "code",
      "source": [
        "theta = linear_regression(x_train, y_train)\n"
      ],
      "metadata": {
        "colab": {
          "base_uri": "https://localhost:8080/"
        },
        "id": "06rz0lCvSc5u",
        "outputId": "e773817b-fded-4221-fcfb-174db6d04cfb"
      },
      "execution_count": null,
      "outputs": [
        {
          "output_type": "stream",
          "name": "stderr",
          "text": [
            "<ipython-input-2-d055fe9704bf>:15: RuntimeWarning: invalid value encountered in subtract\n",
            "  theta -= learning_rate * gradient\n"
          ]
        }
      ]
    },
    {
      "cell_type": "code",
      "source": [
        "plot_regression_line(x_train[:, 0], y_train, theta)"
      ],
      "metadata": {
        "colab": {
          "base_uri": "https://localhost:8080/",
          "height": 472
        },
        "id": "Bxd7Ji7WSl1P",
        "outputId": "c9b1900d-83bb-4bf5-bde9-5019074df53a"
      },
      "execution_count": null,
      "outputs": [
        {
          "output_type": "display_data",
          "data": {
            "text/plain": [
              "<Figure size 640x480 with 1 Axes>"
            ],
            "image/png": "[encoded data removed]"
          },
          "metadata": {}
        }
      ]
    },
    {
      "cell_type": "markdown",
      "source": [
        "# linear regression using gradient descent"
      ],
      "metadata": {
        "id": "JGufOiS-T9bz"
      }
    },
    {
      "cell_type": "code",
      "source": [
        "learning_rate = 0.0001\n",
        "num_iterations = 1000\n",
        "theta = linear_regression(x_train, y_train, learning_rate, num_iterations)"
      ],
      "metadata": {
        "id": "_TruUv1ETBXR"
      },
      "execution_count": null,
      "outputs": []
    },
    {
      "cell_type": "code",
      "source": [
        "print(\"Learned Parameters:\")\n",
        "print(\"Intercept (theta0):\", theta[0])\n",
        "print(\"Slope (theta1):\", theta[1:])\n",
        "print()"
      ],
      "metadata": {
        "colab": {
          "base_uri": "https://localhost:8080/"
        },
        "id": "FzOYShQtTDtE",
        "outputId": "0f8eae92-95ff-47bb-d21f-dc6cc612d0c9"
      },
      "execution_count": null,
      "outputs": [
        {
          "output_type": "stream",
          "name": "stdout",
          "text": [
            "Learned Parameters:\n",
            "Intercept (theta0): -15.195788078334827\n",
            "Slope (theta1): [208.41501147 171.33238101  61.01304996]\n",
            "\n"
          ]
        }
      ]
    },
    {
      "cell_type": "code",
      "source": [
        "plot_regression_line(x_train[:, 0], y_train, theta)"
      ],
      "metadata": {
        "colab": {
          "base_uri": "https://localhost:8080/",
          "height": 472
        },
        "id": "JyxQbbxgTGb4",
        "outputId": "02fbf8ed-0521-4170-c977-684e06c082e3"
      },
      "execution_count": null,
      "outputs": [
        {
          "output_type": "display_data",
          "data": {
            "text/plain": [
              "<Figure size 640x480 with 1 Axes>"
            ],
            "image/png": "[encoded data removed]"
          },
          "metadata": {}
        }
      ]
    }
  ]
}